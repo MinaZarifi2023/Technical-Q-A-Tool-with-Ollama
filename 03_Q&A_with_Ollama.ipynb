{
 "cells": [
  {
   "cell_type": "markdown",
   "id": "4a127345-fca2-4fab-8f47-426407ef01ae",
   "metadata": {},
   "source": [
    "# Ollama Technical Q&A Tool\n",
    "build a tool that takes a technical question,"
   ]
  },
  {
   "cell_type": "code",
   "execution_count": 1,
   "id": "eef1a5c5-c354-4023-b4d3-c40bfbc37af3",
   "metadata": {
    "scrolled": true
   },
   "outputs": [
    {
     "name": "stdout",
     "output_type": "stream",
     "text": [
      "🔍 Technical Question Explainer using llama3.2\n",
      "Type 'exit' to quit.\n",
      "\n"
     ]
    },
    {
     "name": "stdin",
     "output_type": "stream",
     "text": [
      "❓ Your technical question:  Please explain what this code does and why: yield from {book.get(\"author\") for book in books if book.get(\"author\")}\n"
     ]
    },
    {
     "name": "stdout",
     "output_type": "stream",
     "text": [
      "\n",
      "💡 Explanation:\n",
      " I'd be happy to help you understand this code.\n",
      "\n",
      "**What is this code doing?**\n",
      "\n",
      "This code is using a feature of Python called \"generator expressions\" or \"yield from\". It's taking data from two sources:\n",
      "\n",
      "1. `books`: This is an iterable (like a list, tuple, or dictionary) containing books.\n",
      "2. A dictionary named `book` that has an `\"author\"` key.\n",
      "\n",
      "The code uses the following syntax: `yield from {book.get(\"author\") for book in books if book.get(\"author\")}`\n",
      "\n",
      "Here's what happens:\n",
      "\n",
      "- It iterates over each book in the `books` iterable.\n",
      "- For each book, it tries to get the value of the `\"author\"` key from the `book` dictionary. If the key doesn't exist or is empty, the code skips that book.\n",
      "- It yields (i.e., produces) each author's name found in a book.\n",
      "\n",
      "**Why does this code use \"yield from\"?**\n",
      "\n",
      "The `yield from` statement is used to delegate iteration over another iterable (in this case, the generator expression `{book.get(\"author\") for book in books if book.get(\"author\")}`). This means that instead of having to manually iterate over each book and author individually, we can let Python handle it.\n",
      "\n",
      "In essence, `yield from` says: \"Instead of iterating over all the values I produce, delegate the iteration to the other iterable here\". This makes the code more concise and easier to read.\n",
      "\n",
      "Think of it like a hierarchical iterator:\n",
      "\n",
      "- We start with `books`, which is an iterable.\n",
      "- We then use another iterable (`{book.get(\"author\") for book in books if book.get(\"author\")}`) to produce author names, but we delegate the iteration over this inner iterable using `yield from`.\n",
      "- The outer iterable (the `books` list) still gets processed one by one, but the \"inner\" iteration over author names happens concurrently.\n",
      "\n",
      "Does that make sense? \n",
      "\n"
     ]
    },
    {
     "name": "stdin",
     "output_type": "stream",
     "text": [
      "❓ Your technical question:  exit\n"
     ]
    }
   ],
   "source": [
    "# imports\n",
    "import subprocess\n",
    "\n",
    "# Get Llama 3.2 to answer\n",
    "MODEL_LLAMA = 'llama3.2'\n",
    "\n",
    "def ask_llama(question: str) -> str:\n",
    "    \"\"\"\n",
    "    Sends a technical question to Ollama using llama3.2 model\n",
    "    and returns the explanation.\n",
    "    \"\"\"\n",
    "    prompt = f\"\"\"\n",
    "    You are a helpful technical assistant. Please explain the following question in a simple and clear way:\n",
    "\n",
    "    Question: {question}\n",
    "    \n",
    "    Answer:\n",
    "    \"\"\"\n",
    "\n",
    "    try:\n",
    "        # Use subprocess to call Ollama CLI with the prompt\n",
    "        result = subprocess.run(\n",
    "            [\"ollama\", \"run\", MODEL_LLAMA],\n",
    "            input=prompt.encode(\"utf-8\"),\n",
    "            stdout=subprocess.PIPE,\n",
    "            stderr=subprocess.PIPE,\n",
    "            check=True\n",
    "        )\n",
    "\n",
    "        output = result.stdout.decode(\"utf-8\").strip()\n",
    "        return output\n",
    "\n",
    "    except subprocess.CalledProcessError as e:\n",
    "        return f\"Error: {e.stderr.decode('utf-8')}\"\n",
    "\n",
    "if __name__ == \"__main__\":\n",
    "    print(\"🔍 Technical Question Explainer using llama3.2\")\n",
    "    print(\"Type 'exit' to quit.\\n\")\n",
    "\n",
    "    while True:\n",
    "        question = input(\"❓ Your technical question: \").strip()\n",
    "        if question.lower() == \"exit\":\n",
    "            break\n",
    "        answer = ask_llama(question)\n",
    "        print(\"\\n💡 Explanation:\\n\", answer, \"\\n\")\n",
    "\n",
    "\n",
    "# here is the question; type over this to ask something new\n",
    "\n",
    "question = \"\"\"\n",
    "Please explain what this code does and why:\n",
    "yield from {book.get(\"author\") for book in books if book.get(\"author\")}\n",
    "\"\"\""
   ]
  },
  {
   "cell_type": "code",
   "execution_count": null,
   "id": "288f3623-cafe-4487-8148-8d21ad48d798",
   "metadata": {},
   "outputs": [],
   "source": []
  }
 ],
 "metadata": {
  "kernelspec": {
   "display_name": "Python 3 (ipykernel)",
   "language": "python",
   "name": "python3"
  },
  "language_info": {
   "codemirror_mode": {
    "name": "ipython",
    "version": 3
   },
   "file_extension": ".py",
   "mimetype": "text/x-python",
   "name": "python",
   "nbconvert_exporter": "python",
   "pygments_lexer": "ipython3",
   "version": "3.11.13"
  }
 },
 "nbformat": 4,
 "nbformat_minor": 5
}
